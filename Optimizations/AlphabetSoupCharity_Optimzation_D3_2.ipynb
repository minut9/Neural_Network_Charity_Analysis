{
 "cells": [
  {
   "cell_type": "code",
   "execution_count": 1,
   "id": "7a3e99bf",
   "metadata": {},
   "outputs": [
    {
     "data": {
      "text/html": [
       "<div>\n",
       "<style scoped>\n",
       "    .dataframe tbody tr th:only-of-type {\n",
       "        vertical-align: middle;\n",
       "    }\n",
       "\n",
       "    .dataframe tbody tr th {\n",
       "        vertical-align: top;\n",
       "    }\n",
       "\n",
       "    .dataframe thead th {\n",
       "        text-align: right;\n",
       "    }\n",
       "</style>\n",
       "<table border=\"1\" class=\"dataframe\">\n",
       "  <thead>\n",
       "    <tr style=\"text-align: right;\">\n",
       "      <th></th>\n",
       "      <th>EIN</th>\n",
       "      <th>NAME</th>\n",
       "      <th>APPLICATION_TYPE</th>\n",
       "      <th>AFFILIATION</th>\n",
       "      <th>CLASSIFICATION</th>\n",
       "      <th>USE_CASE</th>\n",
       "      <th>ORGANIZATION</th>\n",
       "      <th>STATUS</th>\n",
       "      <th>INCOME_AMT</th>\n",
       "      <th>SPECIAL_CONSIDERATIONS</th>\n",
       "      <th>ASK_AMT</th>\n",
       "      <th>IS_SUCCESSFUL</th>\n",
       "    </tr>\n",
       "  </thead>\n",
       "  <tbody>\n",
       "    <tr>\n",
       "      <th>0</th>\n",
       "      <td>10520599</td>\n",
       "      <td>BLUE KNIGHTS MOTORCYCLE CLUB</td>\n",
       "      <td>T10</td>\n",
       "      <td>Independent</td>\n",
       "      <td>C1000</td>\n",
       "      <td>ProductDev</td>\n",
       "      <td>Association</td>\n",
       "      <td>1</td>\n",
       "      <td>0</td>\n",
       "      <td>N</td>\n",
       "      <td>5000</td>\n",
       "      <td>1</td>\n",
       "    </tr>\n",
       "    <tr>\n",
       "      <th>1</th>\n",
       "      <td>10531628</td>\n",
       "      <td>AMERICAN CHESAPEAKE CLUB CHARITABLE TR</td>\n",
       "      <td>T3</td>\n",
       "      <td>Independent</td>\n",
       "      <td>C2000</td>\n",
       "      <td>Preservation</td>\n",
       "      <td>Co-operative</td>\n",
       "      <td>1</td>\n",
       "      <td>1-9999</td>\n",
       "      <td>N</td>\n",
       "      <td>108590</td>\n",
       "      <td>1</td>\n",
       "    </tr>\n",
       "    <tr>\n",
       "      <th>2</th>\n",
       "      <td>10547893</td>\n",
       "      <td>ST CLOUD PROFESSIONAL FIREFIGHTERS</td>\n",
       "      <td>T5</td>\n",
       "      <td>CompanySponsored</td>\n",
       "      <td>C3000</td>\n",
       "      <td>ProductDev</td>\n",
       "      <td>Association</td>\n",
       "      <td>1</td>\n",
       "      <td>0</td>\n",
       "      <td>N</td>\n",
       "      <td>5000</td>\n",
       "      <td>0</td>\n",
       "    </tr>\n",
       "    <tr>\n",
       "      <th>3</th>\n",
       "      <td>10553066</td>\n",
       "      <td>SOUTHSIDE ATHLETIC ASSOCIATION</td>\n",
       "      <td>T3</td>\n",
       "      <td>CompanySponsored</td>\n",
       "      <td>C2000</td>\n",
       "      <td>Preservation</td>\n",
       "      <td>Trust</td>\n",
       "      <td>1</td>\n",
       "      <td>10000-24999</td>\n",
       "      <td>N</td>\n",
       "      <td>6692</td>\n",
       "      <td>1</td>\n",
       "    </tr>\n",
       "    <tr>\n",
       "      <th>4</th>\n",
       "      <td>10556103</td>\n",
       "      <td>GENETIC RESEARCH INSTITUTE OF THE DESERT</td>\n",
       "      <td>T3</td>\n",
       "      <td>Independent</td>\n",
       "      <td>C1000</td>\n",
       "      <td>Heathcare</td>\n",
       "      <td>Trust</td>\n",
       "      <td>1</td>\n",
       "      <td>100000-499999</td>\n",
       "      <td>N</td>\n",
       "      <td>142590</td>\n",
       "      <td>1</td>\n",
       "    </tr>\n",
       "  </tbody>\n",
       "</table>\n",
       "</div>"
      ],
      "text/plain": [
       "        EIN                                      NAME APPLICATION_TYPE  \\\n",
       "0  10520599              BLUE KNIGHTS MOTORCYCLE CLUB              T10   \n",
       "1  10531628    AMERICAN CHESAPEAKE CLUB CHARITABLE TR               T3   \n",
       "2  10547893        ST CLOUD PROFESSIONAL FIREFIGHTERS               T5   \n",
       "3  10553066            SOUTHSIDE ATHLETIC ASSOCIATION               T3   \n",
       "4  10556103  GENETIC RESEARCH INSTITUTE OF THE DESERT               T3   \n",
       "\n",
       "        AFFILIATION CLASSIFICATION      USE_CASE  ORGANIZATION  STATUS  \\\n",
       "0       Independent          C1000    ProductDev   Association       1   \n",
       "1       Independent          C2000  Preservation  Co-operative       1   \n",
       "2  CompanySponsored          C3000    ProductDev   Association       1   \n",
       "3  CompanySponsored          C2000  Preservation         Trust       1   \n",
       "4       Independent          C1000     Heathcare         Trust       1   \n",
       "\n",
       "      INCOME_AMT SPECIAL_CONSIDERATIONS  ASK_AMT  IS_SUCCESSFUL  \n",
       "0              0                      N     5000              1  \n",
       "1         1-9999                      N   108590              1  \n",
       "2              0                      N     5000              0  \n",
       "3    10000-24999                      N     6692              1  \n",
       "4  100000-499999                      N   142590              1  "
      ]
     },
     "execution_count": 1,
     "metadata": {},
     "output_type": "execute_result"
    }
   ],
   "source": [
    "# Import our dependencies\n",
    "from sklearn.model_selection import train_test_split\n",
    "from sklearn.preprocessing import StandardScaler,OneHotEncoder\n",
    "import pandas as pd\n",
    "import tensorflow as tf\n",
    "from tensorflow.keras.layers import Dense\n",
    "from tensorflow.keras.models import Sequential\n",
    "\n",
    "#  Import and read the charity_data.csv.\n",
    "import pandas as pd \n",
    "application_df = pd.read_csv(\"./Resources/charity_data.csv\")\n",
    "application_df.head()"
   ]
  },
  {
   "cell_type": "code",
   "execution_count": 2,
   "id": "751ab19e",
   "metadata": {},
   "outputs": [
    {
     "data": {
      "text/html": [
       "<div>\n",
       "<style scoped>\n",
       "    .dataframe tbody tr th:only-of-type {\n",
       "        vertical-align: middle;\n",
       "    }\n",
       "\n",
       "    .dataframe tbody tr th {\n",
       "        vertical-align: top;\n",
       "    }\n",
       "\n",
       "    .dataframe thead th {\n",
       "        text-align: right;\n",
       "    }\n",
       "</style>\n",
       "<table border=\"1\" class=\"dataframe\">\n",
       "  <thead>\n",
       "    <tr style=\"text-align: right;\">\n",
       "      <th></th>\n",
       "      <th>NAME</th>\n",
       "      <th>APPLICATION_TYPE</th>\n",
       "      <th>AFFILIATION</th>\n",
       "      <th>CLASSIFICATION</th>\n",
       "      <th>USE_CASE</th>\n",
       "      <th>ORGANIZATION</th>\n",
       "      <th>STATUS</th>\n",
       "      <th>INCOME_AMT</th>\n",
       "      <th>SPECIAL_CONSIDERATIONS</th>\n",
       "      <th>ASK_AMT</th>\n",
       "      <th>IS_SUCCESSFUL</th>\n",
       "    </tr>\n",
       "  </thead>\n",
       "  <tbody>\n",
       "    <tr>\n",
       "      <th>0</th>\n",
       "      <td>BLUE KNIGHTS MOTORCYCLE CLUB</td>\n",
       "      <td>T10</td>\n",
       "      <td>Independent</td>\n",
       "      <td>C1000</td>\n",
       "      <td>ProductDev</td>\n",
       "      <td>Association</td>\n",
       "      <td>1</td>\n",
       "      <td>0</td>\n",
       "      <td>N</td>\n",
       "      <td>5000</td>\n",
       "      <td>1</td>\n",
       "    </tr>\n",
       "    <tr>\n",
       "      <th>1</th>\n",
       "      <td>AMERICAN CHESAPEAKE CLUB CHARITABLE TR</td>\n",
       "      <td>T3</td>\n",
       "      <td>Independent</td>\n",
       "      <td>C2000</td>\n",
       "      <td>Preservation</td>\n",
       "      <td>Co-operative</td>\n",
       "      <td>1</td>\n",
       "      <td>1-9999</td>\n",
       "      <td>N</td>\n",
       "      <td>108590</td>\n",
       "      <td>1</td>\n",
       "    </tr>\n",
       "    <tr>\n",
       "      <th>2</th>\n",
       "      <td>ST CLOUD PROFESSIONAL FIREFIGHTERS</td>\n",
       "      <td>T5</td>\n",
       "      <td>CompanySponsored</td>\n",
       "      <td>C3000</td>\n",
       "      <td>ProductDev</td>\n",
       "      <td>Association</td>\n",
       "      <td>1</td>\n",
       "      <td>0</td>\n",
       "      <td>N</td>\n",
       "      <td>5000</td>\n",
       "      <td>0</td>\n",
       "    </tr>\n",
       "    <tr>\n",
       "      <th>3</th>\n",
       "      <td>SOUTHSIDE ATHLETIC ASSOCIATION</td>\n",
       "      <td>T3</td>\n",
       "      <td>CompanySponsored</td>\n",
       "      <td>C2000</td>\n",
       "      <td>Preservation</td>\n",
       "      <td>Trust</td>\n",
       "      <td>1</td>\n",
       "      <td>10000-24999</td>\n",
       "      <td>N</td>\n",
       "      <td>6692</td>\n",
       "      <td>1</td>\n",
       "    </tr>\n",
       "    <tr>\n",
       "      <th>4</th>\n",
       "      <td>GENETIC RESEARCH INSTITUTE OF THE DESERT</td>\n",
       "      <td>T3</td>\n",
       "      <td>Independent</td>\n",
       "      <td>C1000</td>\n",
       "      <td>Heathcare</td>\n",
       "      <td>Trust</td>\n",
       "      <td>1</td>\n",
       "      <td>100000-499999</td>\n",
       "      <td>N</td>\n",
       "      <td>142590</td>\n",
       "      <td>1</td>\n",
       "    </tr>\n",
       "  </tbody>\n",
       "</table>\n",
       "</div>"
      ],
      "text/plain": [
       "                                       NAME APPLICATION_TYPE  \\\n",
       "0              BLUE KNIGHTS MOTORCYCLE CLUB              T10   \n",
       "1    AMERICAN CHESAPEAKE CLUB CHARITABLE TR               T3   \n",
       "2        ST CLOUD PROFESSIONAL FIREFIGHTERS               T5   \n",
       "3            SOUTHSIDE ATHLETIC ASSOCIATION               T3   \n",
       "4  GENETIC RESEARCH INSTITUTE OF THE DESERT               T3   \n",
       "\n",
       "        AFFILIATION CLASSIFICATION      USE_CASE  ORGANIZATION  STATUS  \\\n",
       "0       Independent          C1000    ProductDev   Association       1   \n",
       "1       Independent          C2000  Preservation  Co-operative       1   \n",
       "2  CompanySponsored          C3000    ProductDev   Association       1   \n",
       "3  CompanySponsored          C2000  Preservation         Trust       1   \n",
       "4       Independent          C1000     Heathcare         Trust       1   \n",
       "\n",
       "      INCOME_AMT SPECIAL_CONSIDERATIONS  ASK_AMT  IS_SUCCESSFUL  \n",
       "0              0                      N     5000              1  \n",
       "1         1-9999                      N   108590              1  \n",
       "2              0                      N     5000              0  \n",
       "3    10000-24999                      N     6692              1  \n",
       "4  100000-499999                      N   142590              1  "
      ]
     },
     "execution_count": 2,
     "metadata": {},
     "output_type": "execute_result"
    }
   ],
   "source": [
    "# Drop the non-beneficial ID columns, 'EIN' and 'NAME'.\n",
    "application_df = application_df.drop(['EIN'],1)\n",
    "application_df.head()"
   ]
  },
  {
   "cell_type": "code",
   "execution_count": 3,
   "id": "bc069e1c",
   "metadata": {},
   "outputs": [
    {
     "data": {
      "text/plain": [
       "(34299, 11)"
      ]
     },
     "execution_count": 3,
     "metadata": {},
     "output_type": "execute_result"
    }
   ],
   "source": [
    "# check the shape\n",
    "application_df.shape"
   ]
  },
  {
   "cell_type": "code",
   "execution_count": 4,
   "id": "6d262a8e",
   "metadata": {},
   "outputs": [
    {
     "data": {
      "text/plain": [
       "NAME                      19568\n",
       "APPLICATION_TYPE             17\n",
       "AFFILIATION                   6\n",
       "CLASSIFICATION               71\n",
       "USE_CASE                      5\n",
       "ORGANIZATION                  4\n",
       "STATUS                        2\n",
       "INCOME_AMT                    9\n",
       "SPECIAL_CONSIDERATIONS        2\n",
       "ASK_AMT                    8747\n",
       "IS_SUCCESSFUL                 2\n",
       "dtype: int64"
      ]
     },
     "execution_count": 4,
     "metadata": {},
     "output_type": "execute_result"
    }
   ],
   "source": [
    "# Determine the number of unique values in each column.\n",
    "application_df.nunique()"
   ]
  },
  {
   "cell_type": "code",
   "execution_count": null,
   "id": "a3061b7b",
   "metadata": {},
   "outputs": [],
   "source": [
    "# examine value counts for STATUS\n",
    "#application_df[\"STATUS\"].value_counts()"
   ]
  },
  {
   "cell_type": "code",
   "execution_count": null,
   "id": "5194f789",
   "metadata": {},
   "outputs": [],
   "source": [
    "# examine value counts for SPECIAL_CONSIDERATIONS\n",
    "#application_df[\"SPECIAL_CONSIDERATIONS\"].value_counts()"
   ]
  },
  {
   "cell_type": "code",
   "execution_count": null,
   "id": "64a890e9",
   "metadata": {},
   "outputs": [],
   "source": [
    "# Drop the additional non-beneficial columns STATUS and SPECIAL_CONSIDERATIONS\n",
    "#application_df = application_df.drop(['STATUS', 'SPECIAL_CONSIDERATIONS'], 1)\n"
   ]
  },
  {
   "cell_type": "code",
   "execution_count": 8,
   "id": "7137f479",
   "metadata": {},
   "outputs": [],
   "source": [
    "#Look at APPLICATION_TYPE value counts for binning\n",
    "application_counts = application_df[\"APPLICATION_TYPE\"].value_counts()\n"
   ]
  },
  {
   "cell_type": "code",
   "execution_count": 10,
   "id": "38d2868f",
   "metadata": {},
   "outputs": [
    {
     "data": {
      "text/plain": [
       "T3     27037\n",
       "T4      1542\n",
       "T6      1216\n",
       "T5      1173\n",
       "T19     1065\n",
       "T8       737\n",
       "T7       725\n",
       "T10      528\n",
       "T9       156\n",
       "T13       66\n",
       "T12       27\n",
       "T2        16\n",
       "T14        3\n",
       "T25        3\n",
       "T29        2\n",
       "T15        2\n",
       "T17        1\n",
       "Name: APPLICATION_TYPE, dtype: int64"
      ]
     },
     "execution_count": 10,
     "metadata": {},
     "output_type": "execute_result"
    }
   ],
   "source": [
    "application_counts"
   ]
  },
  {
   "cell_type": "code",
   "execution_count": 11,
   "id": "3bd8db3d",
   "metadata": {},
   "outputs": [
    {
     "data": {
      "text/plain": [
       "T3       27037\n",
       "T4        1542\n",
       "T6        1216\n",
       "T5        1173\n",
       "T19       1065\n",
       "T8         737\n",
       "T7         725\n",
       "T10        528\n",
       "Other      276\n",
       "Name: APPLICATION_TYPE, dtype: int64"
      ]
     },
     "execution_count": 11,
     "metadata": {},
     "output_type": "execute_result"
    }
   ],
   "source": [
    "#Determine which values to replace if counts are less than 500\n",
    "replace_application = list(application_counts[application_counts < 500].index)\n",
    "\n",
    "#replace in dataframe\n",
    "for app in replace_application:\n",
    "    application_df[\"APPLICATION_TYPE\"] = application_df[\"APPLICATION_TYPE\"].replace(app,\"Other\")\n",
    "    \n",
    "#check to make sure binning worked\n",
    "application_df[\"APPLICATION_TYPE\"].value_counts()"
   ]
  },
  {
   "cell_type": "code",
   "execution_count": 12,
   "id": "157fc291",
   "metadata": {},
   "outputs": [
    {
     "data": {
      "text/plain": [
       "C1000    17326\n",
       "C2000     6074\n",
       "C1200     4837\n",
       "C3000     1918\n",
       "C2100     1883\n",
       "         ...  \n",
       "C2500        1\n",
       "C1236        1\n",
       "C1245        1\n",
       "C2600        1\n",
       "C1248        1\n",
       "Name: CLASSIFICATION, Length: 71, dtype: int64"
      ]
     },
     "execution_count": 12,
     "metadata": {},
     "output_type": "execute_result"
    }
   ],
   "source": [
    "class_counts = application_df[\"CLASSIFICATION\"].value_counts()\n",
    "class_counts"
   ]
  },
  {
   "cell_type": "code",
   "execution_count": 13,
   "id": "5c28e508",
   "metadata": {},
   "outputs": [
    {
     "data": {
      "text/plain": [
       "C1000    False\n",
       "C2000    False\n",
       "C1200    False\n",
       "C3000    False\n",
       "C2100    False\n",
       "         ...  \n",
       "C2500     True\n",
       "C1236     True\n",
       "C1245     True\n",
       "C2600     True\n",
       "C1248     True\n",
       "Name: CLASSIFICATION, Length: 71, dtype: bool"
      ]
     },
     "execution_count": 13,
     "metadata": {},
     "output_type": "execute_result"
    }
   ],
   "source": [
    "class_counts < 1000"
   ]
  },
  {
   "cell_type": "code",
   "execution_count": 14,
   "id": "01fe2d83",
   "metadata": {},
   "outputs": [
    {
     "data": {
      "text/plain": [
       "C1000    17326\n",
       "C2000     6074\n",
       "C1200     4837\n",
       "Other     2261\n",
       "C3000     1918\n",
       "C2100     1883\n",
       "Name: CLASSIFICATION, dtype: int64"
      ]
     },
     "execution_count": 14,
     "metadata": {},
     "output_type": "execute_result"
    }
   ],
   "source": [
    "#Determine which values to replace if counts are less than 500\n",
    "replace_class = list(class_counts[class_counts < 1000].index)\n",
    "\n",
    "#replace in dataframe\n",
    "for cls in replace_class:\n",
    "    application_df[\"CLASSIFICATION\"] = application_df[\"CLASSIFICATION\"].replace(cls,\"Other\")\n",
    "    \n",
    "#check to make sure binning worked\n",
    "application_df[\"CLASSIFICATION\"].value_counts()"
   ]
  },
  {
   "cell_type": "code",
   "execution_count": 15,
   "id": "787a6478",
   "metadata": {},
   "outputs": [
    {
     "data": {
      "text/plain": [
       "NAME                      19568\n",
       "APPLICATION_TYPE              9\n",
       "AFFILIATION                   6\n",
       "CLASSIFICATION                6\n",
       "USE_CASE                      5\n",
       "ORGANIZATION                  4\n",
       "STATUS                        2\n",
       "INCOME_AMT                    9\n",
       "SPECIAL_CONSIDERATIONS        2\n",
       "ASK_AMT                    8747\n",
       "IS_SUCCESSFUL                 2\n",
       "dtype: int64"
      ]
     },
     "execution_count": 15,
     "metadata": {},
     "output_type": "execute_result"
    }
   ],
   "source": [
    "# Determine number of unique values in each column\n",
    "application_df.nunique()"
   ]
  },
  {
   "cell_type": "code",
   "execution_count": 16,
   "id": "37ee8bd8",
   "metadata": {},
   "outputs": [
    {
     "name": "stdout",
     "output_type": "stream",
     "text": [
      "<class 'pandas.core.frame.DataFrame'>\n",
      "RangeIndex: 34299 entries, 0 to 34298\n",
      "Data columns (total 11 columns):\n",
      " #   Column                  Non-Null Count  Dtype \n",
      "---  ------                  --------------  ----- \n",
      " 0   NAME                    34299 non-null  object\n",
      " 1   APPLICATION_TYPE        34299 non-null  object\n",
      " 2   AFFILIATION             34299 non-null  object\n",
      " 3   CLASSIFICATION          34299 non-null  object\n",
      " 4   USE_CASE                34299 non-null  object\n",
      " 5   ORGANIZATION            34299 non-null  object\n",
      " 6   STATUS                  34299 non-null  int64 \n",
      " 7   INCOME_AMT              34299 non-null  object\n",
      " 8   SPECIAL_CONSIDERATIONS  34299 non-null  object\n",
      " 9   ASK_AMT                 34299 non-null  int64 \n",
      " 10  IS_SUCCESSFUL           34299 non-null  int64 \n",
      "dtypes: int64(3), object(8)\n",
      "memory usage: 2.9+ MB\n"
     ]
    }
   ],
   "source": [
    "application_df.info()"
   ]
  },
  {
   "cell_type": "code",
   "execution_count": 20,
   "id": "cea891f0",
   "metadata": {},
   "outputs": [],
   "source": [
    "# BIN NAMES\n",
    "#\n",
    "#"
   ]
  },
  {
   "cell_type": "code",
   "execution_count": 21,
   "id": "48520b09",
   "metadata": {},
   "outputs": [
    {
     "data": {
      "text/plain": [
       "PARENT BOOSTER USA INC                             1260\n",
       "TOPS CLUB INC                                       765\n",
       "UNITED STATES BOWLING CONGRESS INC                  700\n",
       "WASHINGTON STATE UNIVERSITY                         492\n",
       "AMATEUR ATHLETIC UNION OF THE UNITED STATES INC     408\n",
       "                                                   ... \n",
       "WATER IN THE DESERT INC                               1\n",
       "THE JONATHAN FOUNDATION INC                           1\n",
       "DREAM BUILDING INC                                    1\n",
       "ART WITHIN INC                                        1\n",
       "THE MARSH A BREEDING GROUND FOR NEW PERFORMANCE       1\n",
       "Name: NAME, Length: 19568, dtype: int64"
      ]
     },
     "execution_count": 21,
     "metadata": {},
     "output_type": "execute_result"
    }
   ],
   "source": [
    "# look at NAME value counts for binning\n",
    "name_counts = application_df[\"NAME\"].value_counts()\n",
    "name_counts"
   ]
  },
  {
   "cell_type": "code",
   "execution_count": 22,
   "id": "19479401",
   "metadata": {},
   "outputs": [
    {
     "data": {
      "text/plain": [
       "<AxesSubplot:ylabel='Density'>"
      ]
     },
     "execution_count": 22,
     "metadata": {},
     "output_type": "execute_result"
    },
    {
     "data": {
      "image/png": "[encoded data removed]",
      "text/plain": [
       "<Figure size 432x288 with 1 Axes>"
      ]
     },
     "metadata": {
      "needs_background": "light"
     },
     "output_type": "display_data"
    }
   ],
   "source": [
    "# visualize the value counts of NAME\n",
    "name_counts.plot.density()"
   ]
  },
  {
   "cell_type": "code",
   "execution_count": 24,
   "id": "05711ffc",
   "metadata": {},
   "outputs": [
    {
     "data": {
      "text/plain": [
       "NATIONAL PRIVATE EDUCATORS AND AFFILIATES ASSOC HEALTH & WELFARE    1\n",
       "CREATING HEALTHY EQUINES TO SERVICE THERAPEUTIC RIDING              1\n",
       "MINDSEA FOUNDATION                                                  1\n",
       "ROTHE MINISTRIES                                                    1\n",
       "CARMEL COMMUNITY INC                                                1\n",
       "                                                                   ..\n",
       "WATER IN THE DESERT INC                                             1\n",
       "THE JONATHAN FOUNDATION INC                                         1\n",
       "DREAM BUILDING INC                                                  1\n",
       "ART WITHIN INC                                                      1\n",
       "THE MARSH A BREEDING GROUND FOR NEW PERFORMANCE                     1\n",
       "Name: NAME, Length: 18776, dtype: int64"
      ]
     },
     "execution_count": 24,
     "metadata": {},
     "output_type": "execute_result"
    }
   ],
   "source": [
    "# how many name counts are there with only 1?\n",
    "name_counts[name_counts <= 1]"
   ]
  },
  {
   "cell_type": "code",
   "execution_count": 25,
   "id": "fe923cd7",
   "metadata": {
    "scrolled": true
   },
   "outputs": [
    {
     "data": {
      "text/plain": [
       "FATHER FLANAGANS BOYS HOME                         5\n",
       "RISK MANAGEMENT ASSOCIATES FLORIDA CHAPTER CORP    5\n",
       "KAPPA ALPHA PSI FRATERNITY                         5\n",
       "LEAGUE OF UNITED LATIN AMERICAN CITIZENS           5\n",
       "ACTS MINISTRY                                      5\n",
       "                                                  ..\n",
       "WATER IN THE DESERT INC                            1\n",
       "THE JONATHAN FOUNDATION INC                        1\n",
       "DREAM BUILDING INC                                 1\n",
       "ART WITHIN INC                                     1\n",
       "THE MARSH A BREEDING GROUND FOR NEW PERFORMANCE    1\n",
       "Name: NAME, Length: 19214, dtype: int64"
      ]
     },
     "execution_count": 25,
     "metadata": {},
     "output_type": "execute_result"
    }
   ],
   "source": [
    "# how many name counts are there less than 5\n",
    "name_counts[name_counts <=5]"
   ]
  },
  {
   "cell_type": "code",
   "execution_count": 26,
   "id": "9e67de91",
   "metadata": {},
   "outputs": [
    {
     "data": {
      "text/plain": [
       "AIR FORCE ASSOCIATION                                      99\n",
       "WORKERS UNITED                                             97\n",
       "GAMMA THETA UPSILON                                        92\n",
       "INTERNATIONAL ASSOCIATION OF FIRE FIGHTERS                 91\n",
       "SOCIETY OF SAINT VINCENT DE PAUL COUNCIL OF LOS ANGELES    87\n",
       "                                                           ..\n",
       "INTERNATIONAL CONGRESS OF CHURCHES MINISTERS                6\n",
       "WASHINGTON SOCIETY OF PROFESSIONAL ENGINEERS                6\n",
       "AMERICAN SOCIETY OF ADDICTION MEDICINE INC                  6\n",
       "HANDS FOR LIFE                                              6\n",
       "KIWANIS INTERNATIONAL                                       6\n",
       "Name: NAME, Length: 324, dtype: int64"
      ]
     },
     "execution_count": 26,
     "metadata": {},
     "output_type": "execute_result"
    }
   ],
   "source": [
    "# how many name_counts are there less than 100 and greater than 5\n",
    "name_counts[((name_counts <= 100) & (name_counts > 5))]"
   ]
  },
  {
   "cell_type": "code",
   "execution_count": 27,
   "id": "59355292",
   "metadata": {},
   "outputs": [
    {
     "data": {
      "text/plain": [
       "30"
      ]
     },
     "execution_count": 27,
     "metadata": {},
     "output_type": "execute_result"
    }
   ],
   "source": [
    "# how many name_counts are there greater than 100\n",
    "len(name_counts[name_counts > 100])"
   ]
  },
  {
   "cell_type": "code",
   "execution_count": 35,
   "id": "23dbe3f1",
   "metadata": {},
   "outputs": [
    {
     "data": {
      "text/plain": [
       "No_repeat                                                             18776\n",
       "Habitual                                                               5944\n",
       "Infrequent                                                             1267\n",
       "PARENT BOOSTER USA INC                                                 1260\n",
       "TOPS CLUB INC                                                           765\n",
       "UNITED STATES BOWLING CONGRESS INC                                      700\n",
       "WASHINGTON STATE UNIVERSITY                                             492\n",
       "AMATEUR ATHLETIC UNION OF THE UNITED STATES INC                         408\n",
       "PTA TEXAS CONGRESS                                                      368\n",
       "SOROPTIMIST INTERNATIONAL OF THE AMERICAS INC                           331\n",
       "ALPHA PHI SIGMA                                                         313\n",
       "TOASTMASTERS INTERNATIONAL                                              293\n",
       "MOST WORSHIPFUL STRINGER FREE AND ACCEPTED MASONS                       287\n",
       "LITTLE LEAGUE BASEBALL INC                                              277\n",
       "INTERNATIONAL ASSOCIATION OF LIONS CLUBS                                266\n",
       "MOMS CLUB                                                               210\n",
       "INTERNATIONAL ASSOCIATION OF SHEET METAL AIR RAIL & TRANSPORTATION      206\n",
       "AMERICAN ASSOCIATION OF UNIVERSITY WOMEN                                197\n",
       "FARMERS EDUCATIONAL AND COOPERATIVE UNION OF AMERICA                    166\n",
       "KNIGHTS OF COLUMBUS                                                     158\n",
       "HABITAT FOR HUMANITY INTERNATIONAL INC                                  154\n",
       "TENNESSEE ORDER OF THE EASTERN STAR                                     151\n",
       "VETERANS OF FOREIGN WARS OF THE UNITED STATES AUXILIARY                 144\n",
       "PTA UTAH CONGRESS                                                       140\n",
       "THE UNITED STATES PONY CLUBS INC                                        136\n",
       "CIVITAN INTERNATIONAL                                                   131\n",
       "SIGMA BETA DELTA INC                                                    127\n",
       "HONOR SOCIETY OF PHI KAPPA PHI                                          107\n",
       "MONTANA 4-H FOUNDATION INC                                              107\n",
       "WASHINGTON STATE GRANGE                                                 106\n",
       "UNIVERSITY OF WYOMING                                                   105\n",
       "DEMOLAY INTERNATIONAL                                                   104\n",
       "SERTOMA INC                                                             103\n",
       "Name: NAME, dtype: int64"
      ]
     },
     "execution_count": 35,
     "metadata": {},
     "output_type": "execute_result"
    }
   ],
   "source": [
    "#use bucket technique to put those with more than 5 but less than 100 in a bucket\n",
    "#use bucket technique to put 5or less ina small bucket\n",
    "#determine which values to replace if counts are less than or equal to 5\n",
    "\n",
    "replace_application = list(name_counts[name_counts <= 1].index)\n",
    "\n",
    "# replace in dataframe\n",
    "for app in replace_application:\n",
    "    application_df[\"NAME\"] = application_df[\"NAME\"].replace(app,\"No_repeat\")\n",
    "    \n",
    "# check to make sure binning was successful\n",
    "application_df.NAME.value_counts()"
   ]
  },
  {
   "cell_type": "code",
   "execution_count": 36,
   "id": "3651591e",
   "metadata": {},
   "outputs": [
    {
     "data": {
      "text/plain": [
       "No_repeat                                                             18776\n",
       "Habitual                                                               5944\n",
       "Infrequent                                                             1267\n",
       "PARENT BOOSTER USA INC                                                 1260\n",
       "TOPS CLUB INC                                                           765\n",
       "UNITED STATES BOWLING CONGRESS INC                                      700\n",
       "WASHINGTON STATE UNIVERSITY                                             492\n",
       "AMATEUR ATHLETIC UNION OF THE UNITED STATES INC                         408\n",
       "PTA TEXAS CONGRESS                                                      368\n",
       "SOROPTIMIST INTERNATIONAL OF THE AMERICAS INC                           331\n",
       "ALPHA PHI SIGMA                                                         313\n",
       "TOASTMASTERS INTERNATIONAL                                              293\n",
       "MOST WORSHIPFUL STRINGER FREE AND ACCEPTED MASONS                       287\n",
       "LITTLE LEAGUE BASEBALL INC                                              277\n",
       "INTERNATIONAL ASSOCIATION OF LIONS CLUBS                                266\n",
       "MOMS CLUB                                                               210\n",
       "INTERNATIONAL ASSOCIATION OF SHEET METAL AIR RAIL & TRANSPORTATION      206\n",
       "AMERICAN ASSOCIATION OF UNIVERSITY WOMEN                                197\n",
       "FARMERS EDUCATIONAL AND COOPERATIVE UNION OF AMERICA                    166\n",
       "KNIGHTS OF COLUMBUS                                                     158\n",
       "HABITAT FOR HUMANITY INTERNATIONAL INC                                  154\n",
       "TENNESSEE ORDER OF THE EASTERN STAR                                     151\n",
       "VETERANS OF FOREIGN WARS OF THE UNITED STATES AUXILIARY                 144\n",
       "PTA UTAH CONGRESS                                                       140\n",
       "THE UNITED STATES PONY CLUBS INC                                        136\n",
       "CIVITAN INTERNATIONAL                                                   131\n",
       "SIGMA BETA DELTA INC                                                    127\n",
       "HONOR SOCIETY OF PHI KAPPA PHI                                          107\n",
       "MONTANA 4-H FOUNDATION INC                                              107\n",
       "WASHINGTON STATE GRANGE                                                 106\n",
       "UNIVERSITY OF WYOMING                                                   105\n",
       "DEMOLAY INTERNATIONAL                                                   104\n",
       "SERTOMA INC                                                             103\n",
       "Name: NAME, dtype: int64"
      ]
     },
     "execution_count": 36,
     "metadata": {},
     "output_type": "execute_result"
    }
   ],
   "source": [
    "# use bucket technique to put those with 5 or less in a small bucket\n",
    "# determine which values to replace is counts are less than or equal to 5\n",
    "replace_application = list(name_counts[name_counts <= 5].index)\n",
    "\n",
    "# replace in dataframe\n",
    "for app in replace_application:\n",
    "    application_df[\"NAME\"] = application_df[\"NAME\"].replace(app,\"Infrequent\")\n",
    "    \n",
    "# cehck to make sure binning was successful\n",
    "application_df.NAME.value_counts()"
   ]
  },
  {
   "cell_type": "code",
   "execution_count": 38,
   "id": "a5ef7a79",
   "metadata": {},
   "outputs": [
    {
     "data": {
      "text/plain": [
       "No_repeat                                                             18776\n",
       "Habitual                                                               5944\n",
       "Infrequent                                                             1267\n",
       "PARENT BOOSTER USA INC                                                 1260\n",
       "TOPS CLUB INC                                                           765\n",
       "UNITED STATES BOWLING CONGRESS INC                                      700\n",
       "WASHINGTON STATE UNIVERSITY                                             492\n",
       "AMATEUR ATHLETIC UNION OF THE UNITED STATES INC                         408\n",
       "PTA TEXAS CONGRESS                                                      368\n",
       "SOROPTIMIST INTERNATIONAL OF THE AMERICAS INC                           331\n",
       "ALPHA PHI SIGMA                                                         313\n",
       "TOASTMASTERS INTERNATIONAL                                              293\n",
       "MOST WORSHIPFUL STRINGER FREE AND ACCEPTED MASONS                       287\n",
       "LITTLE LEAGUE BASEBALL INC                                              277\n",
       "INTERNATIONAL ASSOCIATION OF LIONS CLUBS                                266\n",
       "MOMS CLUB                                                               210\n",
       "INTERNATIONAL ASSOCIATION OF SHEET METAL AIR RAIL & TRANSPORTATION      206\n",
       "AMERICAN ASSOCIATION OF UNIVERSITY WOMEN                                197\n",
       "FARMERS EDUCATIONAL AND COOPERATIVE UNION OF AMERICA                    166\n",
       "KNIGHTS OF COLUMBUS                                                     158\n",
       "HABITAT FOR HUMANITY INTERNATIONAL INC                                  154\n",
       "TENNESSEE ORDER OF THE EASTERN STAR                                     151\n",
       "VETERANS OF FOREIGN WARS OF THE UNITED STATES AUXILIARY                 144\n",
       "PTA UTAH CONGRESS                                                       140\n",
       "THE UNITED STATES PONY CLUBS INC                                        136\n",
       "CIVITAN INTERNATIONAL                                                   131\n",
       "SIGMA BETA DELTA INC                                                    127\n",
       "HONOR SOCIETY OF PHI KAPPA PHI                                          107\n",
       "MONTANA 4-H FOUNDATION INC                                              107\n",
       "WASHINGTON STATE GRANGE                                                 106\n",
       "UNIVERSITY OF WYOMING                                                   105\n",
       "DEMOLAY INTERNATIONAL                                                   104\n",
       "SERTOMA INC                                                             103\n",
       "Name: NAME, dtype: int64"
      ]
     },
     "execution_count": 38,
     "metadata": {},
     "output_type": "execute_result"
    }
   ],
   "source": [
    "#use bucket technique to put those with more than 5 but less than 100 in a bucket\n",
    "#use bucket technique to put 5or less ina small bucket\n",
    "#determine which values to replace if counts are less than or equal to 5\n",
    "\n",
    "replace_application = list(name_counts[name_counts <= 100].index)\n",
    "\n",
    "# replace in dataframe\n",
    "for app in replace_application:\n",
    "    application_df[\"NAME\"] = application_df[\"NAME\"].replace(app,\"Frequent\")\n",
    "    \n",
    "# check to make sure binning was successful\n",
    "application_df.NAME.value_counts()"
   ]
  },
  {
   "cell_type": "code",
   "execution_count": 40,
   "id": "78f35d08",
   "metadata": {},
   "outputs": [
    {
     "data": {
      "text/plain": [
       "No_repeat     18776\n",
       "Habitual      14256\n",
       "Infrequent     1267\n",
       "Name: NAME, dtype: int64"
      ]
     },
     "execution_count": 40,
     "metadata": {},
     "output_type": "execute_result"
    }
   ],
   "source": [
    "#use bucket technique to put those with more than 100 in a bucket\n",
    "replace_application = list(name_counts[name_counts > 100].index)\n",
    "\n",
    "# replace in dataframe\n",
    "for app in replace_application:\n",
    "    application_df[\"NAME\"] = application_df[\"NAME\"].replace(app,\"Habitual\")\n",
    "    \n",
    "# cehck to make sure binning was successful\n",
    "application_df.NAME.value_counts()"
   ]
  },
  {
   "cell_type": "code",
   "execution_count": null,
   "id": "a5ab59dc",
   "metadata": {},
   "outputs": [],
   "source": []
  },
  {
   "cell_type": "code",
   "execution_count": 41,
   "id": "f562c36f",
   "metadata": {},
   "outputs": [
    {
     "data": {
      "text/plain": [
       "NAME                      object\n",
       "APPLICATION_TYPE          object\n",
       "AFFILIATION               object\n",
       "CLASSIFICATION            object\n",
       "USE_CASE                  object\n",
       "ORGANIZATION              object\n",
       "STATUS                     int64\n",
       "INCOME_AMT                object\n",
       "SPECIAL_CONSIDERATIONS    object\n",
       "ASK_AMT                    int64\n",
       "IS_SUCCESSFUL              int64\n",
       "dtype: object"
      ]
     },
     "execution_count": 41,
     "metadata": {},
     "output_type": "execute_result"
    }
   ],
   "source": [
    "# testing\n",
    "application_df.dtypes"
   ]
  },
  {
   "cell_type": "code",
   "execution_count": 42,
   "id": "3506ffb1",
   "metadata": {},
   "outputs": [
    {
     "data": {
      "text/plain": [
       "[NAME                       True\n",
       " APPLICATION_TYPE           True\n",
       " AFFILIATION                True\n",
       " CLASSIFICATION             True\n",
       " USE_CASE                   True\n",
       " ORGANIZATION               True\n",
       " STATUS                    False\n",
       " INCOME_AMT                 True\n",
       " SPECIAL_CONSIDERATIONS     True\n",
       " ASK_AMT                   False\n",
       " IS_SUCCESSFUL             False\n",
       " dtype: bool]"
      ]
     },
     "execution_count": 42,
     "metadata": {},
     "output_type": "execute_result"
    }
   ],
   "source": [
    "# testing\n",
    "[application_df.dtypes == \"object\"]"
   ]
  },
  {
   "cell_type": "code",
   "execution_count": 43,
   "id": "028beff1",
   "metadata": {},
   "outputs": [
    {
     "data": {
      "text/plain": [
       "['NAME',\n",
       " 'APPLICATION_TYPE',\n",
       " 'AFFILIATION',\n",
       " 'CLASSIFICATION',\n",
       " 'USE_CASE',\n",
       " 'ORGANIZATION',\n",
       " 'INCOME_AMT',\n",
       " 'SPECIAL_CONSIDERATIONS']"
      ]
     },
     "execution_count": 43,
     "metadata": {},
     "output_type": "execute_result"
    }
   ],
   "source": [
    "# testing \n",
    "application_df.dtypes[application_df.dtypes == \"object\"].index.tolist()"
   ]
  },
  {
   "cell_type": "code",
   "execution_count": 44,
   "id": "4952b900",
   "metadata": {},
   "outputs": [
    {
     "data": {
      "text/plain": [
       "['NAME',\n",
       " 'APPLICATION_TYPE',\n",
       " 'AFFILIATION',\n",
       " 'CLASSIFICATION',\n",
       " 'USE_CASE',\n",
       " 'ORGANIZATION',\n",
       " 'INCOME_AMT',\n",
       " 'SPECIAL_CONSIDERATIONS']"
      ]
     },
     "execution_count": 44,
     "metadata": {},
     "output_type": "execute_result"
    }
   ],
   "source": [
    "# generate categorical variable lists (19.4.2)\n",
    "application_cat = application_df.dtypes[application_df.dtypes == \"object\"].index.tolist()\n",
    "application_cat"
   ]
  },
  {
   "cell_type": "code",
   "execution_count": null,
   "id": "29e2801b",
   "metadata": {},
   "outputs": [],
   "source": [
    "# Create a OneHotEncoder instance\n",
    "\n",
    "#fit and transform the OneHotEncoder using the categorical variable list\n",
    "\n",
    "# add the encoded variable names to DataFrame\n",
    "\n"
   ]
  },
  {
   "cell_type": "code",
   "execution_count": 45,
   "id": "4a5c892a",
   "metadata": {},
   "outputs": [
    {
     "data": {
      "text/html": [
       "<div>\n",
       "<style scoped>\n",
       "    .dataframe tbody tr th:only-of-type {\n",
       "        vertical-align: middle;\n",
       "    }\n",
       "\n",
       "    .dataframe tbody tr th {\n",
       "        vertical-align: top;\n",
       "    }\n",
       "\n",
       "    .dataframe thead th {\n",
       "        text-align: right;\n",
       "    }\n",
       "</style>\n",
       "<table border=\"1\" class=\"dataframe\">\n",
       "  <thead>\n",
       "    <tr style=\"text-align: right;\">\n",
       "      <th></th>\n",
       "      <th>NAME_Habitual</th>\n",
       "      <th>NAME_Infrequent</th>\n",
       "      <th>NAME_No_repeat</th>\n",
       "      <th>APPLICATION_TYPE_Other</th>\n",
       "      <th>APPLICATION_TYPE_T10</th>\n",
       "      <th>APPLICATION_TYPE_T19</th>\n",
       "      <th>APPLICATION_TYPE_T3</th>\n",
       "      <th>APPLICATION_TYPE_T4</th>\n",
       "      <th>APPLICATION_TYPE_T5</th>\n",
       "      <th>APPLICATION_TYPE_T6</th>\n",
       "      <th>...</th>\n",
       "      <th>INCOME_AMT_1-9999</th>\n",
       "      <th>INCOME_AMT_10000-24999</th>\n",
       "      <th>INCOME_AMT_100000-499999</th>\n",
       "      <th>INCOME_AMT_10M-50M</th>\n",
       "      <th>INCOME_AMT_1M-5M</th>\n",
       "      <th>INCOME_AMT_25000-99999</th>\n",
       "      <th>INCOME_AMT_50M+</th>\n",
       "      <th>INCOME_AMT_5M-10M</th>\n",
       "      <th>SPECIAL_CONSIDERATIONS_N</th>\n",
       "      <th>SPECIAL_CONSIDERATIONS_Y</th>\n",
       "    </tr>\n",
       "  </thead>\n",
       "  <tbody>\n",
       "    <tr>\n",
       "      <th>0</th>\n",
       "      <td>1.0</td>\n",
       "      <td>0.0</td>\n",
       "      <td>0.0</td>\n",
       "      <td>0.0</td>\n",
       "      <td>1.0</td>\n",
       "      <td>0.0</td>\n",
       "      <td>0.0</td>\n",
       "      <td>0.0</td>\n",
       "      <td>0.0</td>\n",
       "      <td>0.0</td>\n",
       "      <td>...</td>\n",
       "      <td>0.0</td>\n",
       "      <td>0.0</td>\n",
       "      <td>0.0</td>\n",
       "      <td>0.0</td>\n",
       "      <td>0.0</td>\n",
       "      <td>0.0</td>\n",
       "      <td>0.0</td>\n",
       "      <td>0.0</td>\n",
       "      <td>1.0</td>\n",
       "      <td>0.0</td>\n",
       "    </tr>\n",
       "    <tr>\n",
       "      <th>1</th>\n",
       "      <td>0.0</td>\n",
       "      <td>0.0</td>\n",
       "      <td>1.0</td>\n",
       "      <td>0.0</td>\n",
       "      <td>0.0</td>\n",
       "      <td>0.0</td>\n",
       "      <td>1.0</td>\n",
       "      <td>0.0</td>\n",
       "      <td>0.0</td>\n",
       "      <td>0.0</td>\n",
       "      <td>...</td>\n",
       "      <td>1.0</td>\n",
       "      <td>0.0</td>\n",
       "      <td>0.0</td>\n",
       "      <td>0.0</td>\n",
       "      <td>0.0</td>\n",
       "      <td>0.0</td>\n",
       "      <td>0.0</td>\n",
       "      <td>0.0</td>\n",
       "      <td>1.0</td>\n",
       "      <td>0.0</td>\n",
       "    </tr>\n",
       "    <tr>\n",
       "      <th>2</th>\n",
       "      <td>0.0</td>\n",
       "      <td>0.0</td>\n",
       "      <td>1.0</td>\n",
       "      <td>0.0</td>\n",
       "      <td>0.0</td>\n",
       "      <td>0.0</td>\n",
       "      <td>0.0</td>\n",
       "      <td>0.0</td>\n",
       "      <td>1.0</td>\n",
       "      <td>0.0</td>\n",
       "      <td>...</td>\n",
       "      <td>0.0</td>\n",
       "      <td>0.0</td>\n",
       "      <td>0.0</td>\n",
       "      <td>0.0</td>\n",
       "      <td>0.0</td>\n",
       "      <td>0.0</td>\n",
       "      <td>0.0</td>\n",
       "      <td>0.0</td>\n",
       "      <td>1.0</td>\n",
       "      <td>0.0</td>\n",
       "    </tr>\n",
       "    <tr>\n",
       "      <th>3</th>\n",
       "      <td>0.0</td>\n",
       "      <td>0.0</td>\n",
       "      <td>1.0</td>\n",
       "      <td>0.0</td>\n",
       "      <td>0.0</td>\n",
       "      <td>0.0</td>\n",
       "      <td>1.0</td>\n",
       "      <td>0.0</td>\n",
       "      <td>0.0</td>\n",
       "      <td>0.0</td>\n",
       "      <td>...</td>\n",
       "      <td>0.0</td>\n",
       "      <td>1.0</td>\n",
       "      <td>0.0</td>\n",
       "      <td>0.0</td>\n",
       "      <td>0.0</td>\n",
       "      <td>0.0</td>\n",
       "      <td>0.0</td>\n",
       "      <td>0.0</td>\n",
       "      <td>1.0</td>\n",
       "      <td>0.0</td>\n",
       "    </tr>\n",
       "    <tr>\n",
       "      <th>4</th>\n",
       "      <td>0.0</td>\n",
       "      <td>0.0</td>\n",
       "      <td>1.0</td>\n",
       "      <td>0.0</td>\n",
       "      <td>0.0</td>\n",
       "      <td>0.0</td>\n",
       "      <td>1.0</td>\n",
       "      <td>0.0</td>\n",
       "      <td>0.0</td>\n",
       "      <td>0.0</td>\n",
       "      <td>...</td>\n",
       "      <td>0.0</td>\n",
       "      <td>0.0</td>\n",
       "      <td>1.0</td>\n",
       "      <td>0.0</td>\n",
       "      <td>0.0</td>\n",
       "      <td>0.0</td>\n",
       "      <td>0.0</td>\n",
       "      <td>0.0</td>\n",
       "      <td>1.0</td>\n",
       "      <td>0.0</td>\n",
       "    </tr>\n",
       "  </tbody>\n",
       "</table>\n",
       "<p>5 rows × 44 columns</p>\n",
       "</div>"
      ],
      "text/plain": [
       "   NAME_Habitual  NAME_Infrequent  NAME_No_repeat  APPLICATION_TYPE_Other  \\\n",
       "0            1.0              0.0             0.0                     0.0   \n",
       "1            0.0              0.0             1.0                     0.0   \n",
       "2            0.0              0.0             1.0                     0.0   \n",
       "3            0.0              0.0             1.0                     0.0   \n",
       "4            0.0              0.0             1.0                     0.0   \n",
       "\n",
       "   APPLICATION_TYPE_T10  APPLICATION_TYPE_T19  APPLICATION_TYPE_T3  \\\n",
       "0                   1.0                   0.0                  0.0   \n",
       "1                   0.0                   0.0                  1.0   \n",
       "2                   0.0                   0.0                  0.0   \n",
       "3                   0.0                   0.0                  1.0   \n",
       "4                   0.0                   0.0                  1.0   \n",
       "\n",
       "   APPLICATION_TYPE_T4  APPLICATION_TYPE_T5  APPLICATION_TYPE_T6  ...  \\\n",
       "0                  0.0                  0.0                  0.0  ...   \n",
       "1                  0.0                  0.0                  0.0  ...   \n",
       "2                  0.0                  1.0                  0.0  ...   \n",
       "3                  0.0                  0.0                  0.0  ...   \n",
       "4                  0.0                  0.0                  0.0  ...   \n",
       "\n",
       "   INCOME_AMT_1-9999  INCOME_AMT_10000-24999  INCOME_AMT_100000-499999  \\\n",
       "0                0.0                     0.0                       0.0   \n",
       "1                1.0                     0.0                       0.0   \n",
       "2                0.0                     0.0                       0.0   \n",
       "3                0.0                     1.0                       0.0   \n",
       "4                0.0                     0.0                       1.0   \n",
       "\n",
       "   INCOME_AMT_10M-50M  INCOME_AMT_1M-5M  INCOME_AMT_25000-99999  \\\n",
       "0                 0.0               0.0                     0.0   \n",
       "1                 0.0               0.0                     0.0   \n",
       "2                 0.0               0.0                     0.0   \n",
       "3                 0.0               0.0                     0.0   \n",
       "4                 0.0               0.0                     0.0   \n",
       "\n",
       "   INCOME_AMT_50M+  INCOME_AMT_5M-10M  SPECIAL_CONSIDERATIONS_N  \\\n",
       "0              0.0                0.0                       1.0   \n",
       "1              0.0                0.0                       1.0   \n",
       "2              0.0                0.0                       1.0   \n",
       "3              0.0                0.0                       1.0   \n",
       "4              0.0                0.0                       1.0   \n",
       "\n",
       "   SPECIAL_CONSIDERATIONS_Y  \n",
       "0                       0.0  \n",
       "1                       0.0  \n",
       "2                       0.0  \n",
       "3                       0.0  \n",
       "4                       0.0  \n",
       "\n",
       "[5 rows x 44 columns]"
      ]
     },
     "execution_count": 45,
     "metadata": {},
     "output_type": "execute_result"
    }
   ],
   "source": [
    "# Create a OneHotEncoder instance\n",
    "enc = OneHotEncoder(sparse=False)\n",
    "\n",
    "# Fit and transform the OneHotEncoder using the categorical variable list\n",
    "encode_df = pd.DataFrame(enc.fit_transform(application_df[application_cat]))\n",
    "\n",
    "# Add the encoded variable names to the dataframe\n",
    "encode_df.columns = enc.get_feature_names(application_cat)\n",
    "encode_df.head()"
   ]
  },
  {
   "cell_type": "code",
   "execution_count": 46,
   "id": "7236e3d9",
   "metadata": {},
   "outputs": [],
   "source": [
    "#merge one-hot encoded feautures and drop originals\n"
   ]
  },
  {
   "cell_type": "code",
   "execution_count": 47,
   "id": "851bd952",
   "metadata": {},
   "outputs": [
    {
     "data": {
      "text/html": [
       "<div>\n",
       "<style scoped>\n",
       "    .dataframe tbody tr th:only-of-type {\n",
       "        vertical-align: middle;\n",
       "    }\n",
       "\n",
       "    .dataframe tbody tr th {\n",
       "        vertical-align: top;\n",
       "    }\n",
       "\n",
       "    .dataframe thead th {\n",
       "        text-align: right;\n",
       "    }\n",
       "</style>\n",
       "<table border=\"1\" class=\"dataframe\">\n",
       "  <thead>\n",
       "    <tr style=\"text-align: right;\">\n",
       "      <th></th>\n",
       "      <th>STATUS</th>\n",
       "      <th>ASK_AMT</th>\n",
       "      <th>IS_SUCCESSFUL</th>\n",
       "      <th>NAME_Habitual</th>\n",
       "      <th>NAME_Infrequent</th>\n",
       "      <th>NAME_No_repeat</th>\n",
       "      <th>APPLICATION_TYPE_Other</th>\n",
       "      <th>APPLICATION_TYPE_T10</th>\n",
       "      <th>APPLICATION_TYPE_T19</th>\n",
       "      <th>APPLICATION_TYPE_T3</th>\n",
       "      <th>...</th>\n",
       "      <th>INCOME_AMT_1-9999</th>\n",
       "      <th>INCOME_AMT_10000-24999</th>\n",
       "      <th>INCOME_AMT_100000-499999</th>\n",
       "      <th>INCOME_AMT_10M-50M</th>\n",
       "      <th>INCOME_AMT_1M-5M</th>\n",
       "      <th>INCOME_AMT_25000-99999</th>\n",
       "      <th>INCOME_AMT_50M+</th>\n",
       "      <th>INCOME_AMT_5M-10M</th>\n",
       "      <th>SPECIAL_CONSIDERATIONS_N</th>\n",
       "      <th>SPECIAL_CONSIDERATIONS_Y</th>\n",
       "    </tr>\n",
       "  </thead>\n",
       "  <tbody>\n",
       "    <tr>\n",
       "      <th>0</th>\n",
       "      <td>1</td>\n",
       "      <td>5000</td>\n",
       "      <td>1</td>\n",
       "      <td>1.0</td>\n",
       "      <td>0.0</td>\n",
       "      <td>0.0</td>\n",
       "      <td>0.0</td>\n",
       "      <td>1.0</td>\n",
       "      <td>0.0</td>\n",
       "      <td>0.0</td>\n",
       "      <td>...</td>\n",
       "      <td>0.0</td>\n",
       "      <td>0.0</td>\n",
       "      <td>0.0</td>\n",
       "      <td>0.0</td>\n",
       "      <td>0.0</td>\n",
       "      <td>0.0</td>\n",
       "      <td>0.0</td>\n",
       "      <td>0.0</td>\n",
       "      <td>1.0</td>\n",
       "      <td>0.0</td>\n",
       "    </tr>\n",
       "    <tr>\n",
       "      <th>1</th>\n",
       "      <td>1</td>\n",
       "      <td>108590</td>\n",
       "      <td>1</td>\n",
       "      <td>0.0</td>\n",
       "      <td>0.0</td>\n",
       "      <td>1.0</td>\n",
       "      <td>0.0</td>\n",
       "      <td>0.0</td>\n",
       "      <td>0.0</td>\n",
       "      <td>1.0</td>\n",
       "      <td>...</td>\n",
       "      <td>1.0</td>\n",
       "      <td>0.0</td>\n",
       "      <td>0.0</td>\n",
       "      <td>0.0</td>\n",
       "      <td>0.0</td>\n",
       "      <td>0.0</td>\n",
       "      <td>0.0</td>\n",
       "      <td>0.0</td>\n",
       "      <td>1.0</td>\n",
       "      <td>0.0</td>\n",
       "    </tr>\n",
       "    <tr>\n",
       "      <th>2</th>\n",
       "      <td>1</td>\n",
       "      <td>5000</td>\n",
       "      <td>0</td>\n",
       "      <td>0.0</td>\n",
       "      <td>0.0</td>\n",
       "      <td>1.0</td>\n",
       "      <td>0.0</td>\n",
       "      <td>0.0</td>\n",
       "      <td>0.0</td>\n",
       "      <td>0.0</td>\n",
       "      <td>...</td>\n",
       "      <td>0.0</td>\n",
       "      <td>0.0</td>\n",
       "      <td>0.0</td>\n",
       "      <td>0.0</td>\n",
       "      <td>0.0</td>\n",
       "      <td>0.0</td>\n",
       "      <td>0.0</td>\n",
       "      <td>0.0</td>\n",
       "      <td>1.0</td>\n",
       "      <td>0.0</td>\n",
       "    </tr>\n",
       "    <tr>\n",
       "      <th>3</th>\n",
       "      <td>1</td>\n",
       "      <td>6692</td>\n",
       "      <td>1</td>\n",
       "      <td>0.0</td>\n",
       "      <td>0.0</td>\n",
       "      <td>1.0</td>\n",
       "      <td>0.0</td>\n",
       "      <td>0.0</td>\n",
       "      <td>0.0</td>\n",
       "      <td>1.0</td>\n",
       "      <td>...</td>\n",
       "      <td>0.0</td>\n",
       "      <td>1.0</td>\n",
       "      <td>0.0</td>\n",
       "      <td>0.0</td>\n",
       "      <td>0.0</td>\n",
       "      <td>0.0</td>\n",
       "      <td>0.0</td>\n",
       "      <td>0.0</td>\n",
       "      <td>1.0</td>\n",
       "      <td>0.0</td>\n",
       "    </tr>\n",
       "    <tr>\n",
       "      <th>4</th>\n",
       "      <td>1</td>\n",
       "      <td>142590</td>\n",
       "      <td>1</td>\n",
       "      <td>0.0</td>\n",
       "      <td>0.0</td>\n",
       "      <td>1.0</td>\n",
       "      <td>0.0</td>\n",
       "      <td>0.0</td>\n",
       "      <td>0.0</td>\n",
       "      <td>1.0</td>\n",
       "      <td>...</td>\n",
       "      <td>0.0</td>\n",
       "      <td>0.0</td>\n",
       "      <td>1.0</td>\n",
       "      <td>0.0</td>\n",
       "      <td>0.0</td>\n",
       "      <td>0.0</td>\n",
       "      <td>0.0</td>\n",
       "      <td>0.0</td>\n",
       "      <td>1.0</td>\n",
       "      <td>0.0</td>\n",
       "    </tr>\n",
       "  </tbody>\n",
       "</table>\n",
       "<p>5 rows × 47 columns</p>\n",
       "</div>"
      ],
      "text/plain": [
       "   STATUS  ASK_AMT  IS_SUCCESSFUL  NAME_Habitual  NAME_Infrequent  \\\n",
       "0       1     5000              1            1.0              0.0   \n",
       "1       1   108590              1            0.0              0.0   \n",
       "2       1     5000              0            0.0              0.0   \n",
       "3       1     6692              1            0.0              0.0   \n",
       "4       1   142590              1            0.0              0.0   \n",
       "\n",
       "   NAME_No_repeat  APPLICATION_TYPE_Other  APPLICATION_TYPE_T10  \\\n",
       "0             0.0                     0.0                   1.0   \n",
       "1             1.0                     0.0                   0.0   \n",
       "2             1.0                     0.0                   0.0   \n",
       "3             1.0                     0.0                   0.0   \n",
       "4             1.0                     0.0                   0.0   \n",
       "\n",
       "   APPLICATION_TYPE_T19  APPLICATION_TYPE_T3  ...  INCOME_AMT_1-9999  \\\n",
       "0                   0.0                  0.0  ...                0.0   \n",
       "1                   0.0                  1.0  ...                1.0   \n",
       "2                   0.0                  0.0  ...                0.0   \n",
       "3                   0.0                  1.0  ...                0.0   \n",
       "4                   0.0                  1.0  ...                0.0   \n",
       "\n",
       "   INCOME_AMT_10000-24999  INCOME_AMT_100000-499999  INCOME_AMT_10M-50M  \\\n",
       "0                     0.0                       0.0                 0.0   \n",
       "1                     0.0                       0.0                 0.0   \n",
       "2                     0.0                       0.0                 0.0   \n",
       "3                     1.0                       0.0                 0.0   \n",
       "4                     0.0                       1.0                 0.0   \n",
       "\n",
       "   INCOME_AMT_1M-5M  INCOME_AMT_25000-99999  INCOME_AMT_50M+  \\\n",
       "0               0.0                     0.0              0.0   \n",
       "1               0.0                     0.0              0.0   \n",
       "2               0.0                     0.0              0.0   \n",
       "3               0.0                     0.0              0.0   \n",
       "4               0.0                     0.0              0.0   \n",
       "\n",
       "   INCOME_AMT_5M-10M  SPECIAL_CONSIDERATIONS_N  SPECIAL_CONSIDERATIONS_Y  \n",
       "0                0.0                       1.0                       0.0  \n",
       "1                0.0                       1.0                       0.0  \n",
       "2                0.0                       1.0                       0.0  \n",
       "3                0.0                       1.0                       0.0  \n",
       "4                0.0                       1.0                       0.0  \n",
       "\n",
       "[5 rows x 47 columns]"
      ]
     },
     "execution_count": 47,
     "metadata": {},
     "output_type": "execute_result"
    }
   ],
   "source": [
    "application_df = application_df.merge(encode_df, left_index=True, right_index=True)\n",
    "application_df = application_df.drop(application_cat,1)\n",
    "application_df.head()"
   ]
  },
  {
   "cell_type": "code",
   "execution_count": 48,
   "id": "5858c327",
   "metadata": {},
   "outputs": [
    {
     "data": {
      "text/plain": [
       "(34299, 47)"
      ]
     },
     "execution_count": 48,
     "metadata": {},
     "output_type": "execute_result"
    }
   ],
   "source": [
    "application_df.shape"
   ]
  },
  {
   "cell_type": "code",
   "execution_count": 49,
   "id": "ebe1e6f2",
   "metadata": {},
   "outputs": [
    {
     "name": "stdout",
     "output_type": "stream",
     "text": [
      "<class 'pandas.core.frame.DataFrame'>\n",
      "RangeIndex: 34299 entries, 0 to 34298\n",
      "Data columns (total 47 columns):\n",
      " #   Column                        Non-Null Count  Dtype  \n",
      "---  ------                        --------------  -----  \n",
      " 0   STATUS                        34299 non-null  int64  \n",
      " 1   ASK_AMT                       34299 non-null  int64  \n",
      " 2   IS_SUCCESSFUL                 34299 non-null  int64  \n",
      " 3   NAME_Habitual                 34299 non-null  float64\n",
      " 4   NAME_Infrequent               34299 non-null  float64\n",
      " 5   NAME_No_repeat                34299 non-null  float64\n",
      " 6   APPLICATION_TYPE_Other        34299 non-null  float64\n",
      " 7   APPLICATION_TYPE_T10          34299 non-null  float64\n",
      " 8   APPLICATION_TYPE_T19          34299 non-null  float64\n",
      " 9   APPLICATION_TYPE_T3           34299 non-null  float64\n",
      " 10  APPLICATION_TYPE_T4           34299 non-null  float64\n",
      " 11  APPLICATION_TYPE_T5           34299 non-null  float64\n",
      " 12  APPLICATION_TYPE_T6           34299 non-null  float64\n",
      " 13  APPLICATION_TYPE_T7           34299 non-null  float64\n",
      " 14  APPLICATION_TYPE_T8           34299 non-null  float64\n",
      " 15  AFFILIATION_CompanySponsored  34299 non-null  float64\n",
      " 16  AFFILIATION_Family/Parent     34299 non-null  float64\n",
      " 17  AFFILIATION_Independent       34299 non-null  float64\n",
      " 18  AFFILIATION_National          34299 non-null  float64\n",
      " 19  AFFILIATION_Other             34299 non-null  float64\n",
      " 20  AFFILIATION_Regional          34299 non-null  float64\n",
      " 21  CLASSIFICATION_C1000          34299 non-null  float64\n",
      " 22  CLASSIFICATION_C1200          34299 non-null  float64\n",
      " 23  CLASSIFICATION_C2000          34299 non-null  float64\n",
      " 24  CLASSIFICATION_C2100          34299 non-null  float64\n",
      " 25  CLASSIFICATION_C3000          34299 non-null  float64\n",
      " 26  CLASSIFICATION_Other          34299 non-null  float64\n",
      " 27  USE_CASE_CommunityServ        34299 non-null  float64\n",
      " 28  USE_CASE_Heathcare            34299 non-null  float64\n",
      " 29  USE_CASE_Other                34299 non-null  float64\n",
      " 30  USE_CASE_Preservation         34299 non-null  float64\n",
      " 31  USE_CASE_ProductDev           34299 non-null  float64\n",
      " 32  ORGANIZATION_Association      34299 non-null  float64\n",
      " 33  ORGANIZATION_Co-operative     34299 non-null  float64\n",
      " 34  ORGANIZATION_Corporation      34299 non-null  float64\n",
      " 35  ORGANIZATION_Trust            34299 non-null  float64\n",
      " 36  INCOME_AMT_0                  34299 non-null  float64\n",
      " 37  INCOME_AMT_1-9999             34299 non-null  float64\n",
      " 38  INCOME_AMT_10000-24999        34299 non-null  float64\n",
      " 39  INCOME_AMT_100000-499999      34299 non-null  float64\n",
      " 40  INCOME_AMT_10M-50M            34299 non-null  float64\n",
      " 41  INCOME_AMT_1M-5M              34299 non-null  float64\n",
      " 42  INCOME_AMT_25000-99999        34299 non-null  float64\n",
      " 43  INCOME_AMT_50M+               34299 non-null  float64\n",
      " 44  INCOME_AMT_5M-10M             34299 non-null  float64\n",
      " 45  SPECIAL_CONSIDERATIONS_N      34299 non-null  float64\n",
      " 46  SPECIAL_CONSIDERATIONS_Y      34299 non-null  float64\n",
      "dtypes: float64(44), int64(3)\n",
      "memory usage: 12.3 MB\n"
     ]
    }
   ],
   "source": [
    "# check if all are numeric \n",
    "application_df.info()"
   ]
  },
  {
   "cell_type": "code",
   "execution_count": null,
   "id": "535f4ee3",
   "metadata": {},
   "outputs": [],
   "source": [
    "# split the preprocessed data into our features and target arrays\n",
    "\n",
    "# split the processed data into training and testing"
   ]
  },
  {
   "cell_type": "code",
   "execution_count": 50,
   "id": "bdc00df9",
   "metadata": {},
   "outputs": [],
   "source": [
    "# Split our preprocessed data into our features and target arrays\n",
    "y = application_df['IS_SUCCESSFUL'].values\n",
    "X = application_df.drop('IS_SUCCESSFUL',1).values\n",
    "\n",
    "# Split the preprocessed data into a training and testing dataset\n",
    "X_train,X_test,y_train,y_test = train_test_split(X,y,random_state=78, stratify=y)"
   ]
  },
  {
   "cell_type": "code",
   "execution_count": 51,
   "id": "e31fea14",
   "metadata": {},
   "outputs": [
    {
     "data": {
      "text/plain": [
       "array([[1.e+00, 5.e+03, 0.e+00, 0.e+00, 1.e+00, 0.e+00, 0.e+00, 0.e+00,\n",
       "        1.e+00, 0.e+00, 0.e+00, 0.e+00, 0.e+00, 0.e+00, 0.e+00, 0.e+00,\n",
       "        1.e+00, 0.e+00, 0.e+00, 0.e+00, 0.e+00, 1.e+00, 0.e+00, 0.e+00,\n",
       "        0.e+00, 0.e+00, 0.e+00, 0.e+00, 0.e+00, 1.e+00, 0.e+00, 0.e+00,\n",
       "        0.e+00, 0.e+00, 1.e+00, 1.e+00, 0.e+00, 0.e+00, 0.e+00, 0.e+00,\n",
       "        0.e+00, 0.e+00, 0.e+00, 0.e+00, 1.e+00, 0.e+00]])"
      ]
     },
     "execution_count": 51,
     "metadata": {},
     "output_type": "execute_result"
    }
   ],
   "source": [
    "X_train[:1]"
   ]
  },
  {
   "cell_type": "code",
   "execution_count": null,
   "id": "3f78d4f3",
   "metadata": {},
   "outputs": [],
   "source": [
    "# create a StandardScaler instances\n",
    "\n",
    "# fit the StandardScaler\n",
    "\n",
    "#Scale the data"
   ]
  },
  {
   "cell_type": "code",
   "execution_count": 52,
   "id": "25fba3c3",
   "metadata": {},
   "outputs": [],
   "source": [
    "# Create a StandardScaler instances\n",
    "scaler = StandardScaler()\n",
    "\n",
    "# Fit the StandardScaler\n",
    "X_scaler = scaler.fit(X_train)\n",
    "\n",
    "# Scale the data\n",
    "X_train_scaled = X_scaler.transform(X_train)\n",
    "X_test_scaled = X_scaler.transform(X_test)"
   ]
  },
  {
   "cell_type": "code",
   "execution_count": 53,
   "id": "6e83b4cf",
   "metadata": {},
   "outputs": [
    {
     "data": {
      "text/plain": [
       "46"
      ]
     },
     "execution_count": 53,
     "metadata": {},
     "output_type": "execute_result"
    }
   ],
   "source": [
    "# testing\n",
    "len(X_train[0])"
   ]
  },
  {
   "cell_type": "code",
   "execution_count": null,
   "id": "7340dcdf",
   "metadata": {},
   "outputs": [],
   "source": [
    "# complile the model\n"
   ]
  },
  {
   "cell_type": "code",
   "execution_count": 54,
   "id": "8eb09c90",
   "metadata": {},
   "outputs": [
    {
     "name": "stdout",
     "output_type": "stream",
     "text": [
      "Model: \"sequential\"\n",
      "_________________________________________________________________\n",
      " Layer (type)                Output Shape              Param #   \n",
      "=================================================================\n",
      " dense (Dense)               (None, 138)               6486      \n",
      "                                                                 \n",
      " dense_1 (Dense)             (None, 92)                12788     \n",
      "                                                                 \n",
      " dense_2 (Dense)             (None, 46)                4278      \n",
      "                                                                 \n",
      " dense_3 (Dense)             (None, 20)                940       \n",
      "                                                                 \n",
      " dense_4 (Dense)             (None, 1)                 21        \n",
      "                                                                 \n",
      "=================================================================\n",
      "Total params: 24,513\n",
      "Trainable params: 24,513\n",
      "Non-trainable params: 0\n",
      "_________________________________________________________________\n"
     ]
    }
   ],
   "source": [
    "# Define the model - deep neural net, i.e., the number of input features and hidden nodes for each layer.\n",
    "\n",
    "number_input_features = len(X_train_scaled[0])\n",
    "hidden_nodes_layer1 = number_input_features * 3\n",
    "hidden_nodes_layer2 = number_input_features * 2\n",
    "hidden_nodes_layer3 = number_input_features * 1\n",
    "hidden_nodes_layer4 = 20\n",
    "\n",
    "\n",
    "nn = tf.keras.models.Sequential()\n",
    "\n",
    "# First hidden layer\n",
    "nn.add(tf.keras.layers.Dense(units=hidden_nodes_layer1,input_dim=number_input_features,activation='relu'))\n",
    "\n",
    "# Second hidden layer\n",
    "nn.add(tf.keras.layers.Dense(units=hidden_nodes_layer2,activation='relu'))\n",
    "\n",
    "# third hidden layer\n",
    "nn.add(tf.keras.layers.Dense(units=hidden_nodes_layer3,activation='relu'))\n",
    "\n",
    "# fourth hidden layer\n",
    "nn.add(tf.keras.layers.Dense(units=hidden_nodes_layer4,activation='relu'))\n",
    "\n",
    "#Output layer\n",
    "nn.add(tf.keras.layers.Dense(units=1,activation='sigmoid'))\n",
    "\n",
    "# Check the structure of the model\n",
    "nn.summary()"
   ]
  },
  {
   "cell_type": "code",
   "execution_count": 55,
   "id": "cf71f8e6",
   "metadata": {},
   "outputs": [],
   "source": [
    "# implement checkpopints\n",
    "####\n",
    "\n",
    "import os\n",
    "from tensorflow.keras.callbacks import ModelCheckpoint\n",
    "\n",
    "# define checkpoint from path and filenames\n",
    "os.makedirs(\"Checkpoints/\",exist_ok=True)\n",
    "checkpoint_path = \"checkpoints/weights.{epoch:02d}.hdf5)\""
   ]
  },
  {
   "cell_type": "code",
   "execution_count": 56,
   "id": "e9f74a20",
   "metadata": {},
   "outputs": [],
   "source": [
    "#Compile the model\n",
    "nn.compile(loss='binary_crossentropy',optimizer='adam',metrics=['accuracy'])"
   ]
  },
  {
   "cell_type": "code",
   "execution_count": 57,
   "id": "f705a547",
   "metadata": {},
   "outputs": [],
   "source": [
    "#create a callback that saves models weights every epcoh\n",
    "\n",
    "cp_callback = ModelCheckpoint(\n",
    "    filepath=checkpoint_path,\n",
    "    verbose=1,\n",
    "    save_weights_only=True,\n",
    "    save_freq= 5)"
   ]
  },
  {
   "cell_type": "code",
   "execution_count": 58,
   "id": "c04d0f7c",
   "metadata": {},
   "outputs": [
    {
     "name": "stdout",
     "output_type": "stream",
     "text": [
      "Epoch 1/100\n",
      "804/804 [==============================] - 1s 768us/step - loss: 0.5628 - accuracy: 0.7246\n",
      "Epoch 2/100\n",
      "804/804 [==============================] - 1s 754us/step - loss: 0.5483 - accuracy: 0.7331\n",
      "Epoch 3/100\n",
      "804/804 [==============================] - 1s 751us/step - loss: 0.5460 - accuracy: 0.7351\n",
      "Epoch 4/100\n",
      "804/804 [==============================] - 1s 744us/step - loss: 0.5433 - accuracy: 0.7346\n",
      "Epoch 5/100\n",
      "804/804 [==============================] - 1s 749us/step - loss: 0.5413 - accuracy: 0.7366\n",
      "Epoch 6/100\n",
      "804/804 [==============================] - 1s 747us/step - loss: 0.5401 - accuracy: 0.7379\n",
      "Epoch 7/100\n",
      "804/804 [==============================] - 1s 747us/step - loss: 0.5385 - accuracy: 0.7380\n",
      "Epoch 8/100\n",
      "804/804 [==============================] - 1s 765us/step - loss: 0.5379 - accuracy: 0.7402\n",
      "Epoch 9/100\n",
      "804/804 [==============================] - 1s 754us/step - loss: 0.5361 - accuracy: 0.7411\n",
      "Epoch 10/100\n",
      "804/804 [==============================] - 1s 749us/step - loss: 0.5355 - accuracy: 0.7411\n",
      "Epoch 11/100\n",
      "804/804 [==============================] - 1s 745us/step - loss: 0.5346 - accuracy: 0.7427\n",
      "Epoch 12/100\n",
      "804/804 [==============================] - 1s 751us/step - loss: 0.5342 - accuracy: 0.7428\n",
      "Epoch 13/100\n",
      "804/804 [==============================] - 1s 756us/step - loss: 0.5337 - accuracy: 0.7422\n",
      "Epoch 14/100\n",
      "804/804 [==============================] - 1s 750us/step - loss: 0.5328 - accuracy: 0.7422\n",
      "Epoch 15/100\n",
      "804/804 [==============================] - 1s 746us/step - loss: 0.5324 - accuracy: 0.7438\n",
      "Epoch 16/100\n",
      "804/804 [==============================] - 1s 760us/step - loss: 0.5315 - accuracy: 0.7429\n",
      "Epoch 17/100\n",
      "804/804 [==============================] - 1s 762us/step - loss: 0.5313 - accuracy: 0.7434\n",
      "Epoch 18/100\n",
      "804/804 [==============================] - 1s 754us/step - loss: 0.5302 - accuracy: 0.7453\n",
      "Epoch 19/100\n",
      "804/804 [==============================] - 1s 751us/step - loss: 0.5300 - accuracy: 0.7453\n",
      "Epoch 20/100\n",
      "804/804 [==============================] - 1s 760us/step - loss: 0.5294 - accuracy: 0.7456\n",
      "Epoch 21/100\n",
      "804/804 [==============================] - 1s 750us/step - loss: 0.5286 - accuracy: 0.7454\n",
      "Epoch 22/100\n",
      "804/804 [==============================] - 1s 749us/step - loss: 0.5281 - accuracy: 0.7462\n",
      "Epoch 23/100\n",
      "804/804 [==============================] - 1s 747us/step - loss: 0.5274 - accuracy: 0.7461\n",
      "Epoch 24/100\n",
      "804/804 [==============================] - 1s 750us/step - loss: 0.5270 - accuracy: 0.7465\n",
      "Epoch 25/100\n",
      "804/804 [==============================] - 1s 748us/step - loss: 0.5264 - accuracy: 0.7473\n",
      "Epoch 26/100\n",
      "804/804 [==============================] - 1s 746us/step - loss: 0.5268 - accuracy: 0.7465\n",
      "Epoch 27/100\n",
      "804/804 [==============================] - 1s 756us/step - loss: 0.5253 - accuracy: 0.7472\n",
      "Epoch 28/100\n",
      "804/804 [==============================] - 1s 757us/step - loss: 0.5249 - accuracy: 0.7481\n",
      "Epoch 29/100\n",
      "804/804 [==============================] - 1s 761us/step - loss: 0.5258 - accuracy: 0.7475\n",
      "Epoch 30/100\n",
      "804/804 [==============================] - 1s 763us/step - loss: 0.5246 - accuracy: 0.7473\n",
      "Epoch 31/100\n",
      "804/804 [==============================] - 1s 751us/step - loss: 0.5245 - accuracy: 0.7472\n",
      "Epoch 32/100\n",
      "804/804 [==============================] - 1s 773us/step - loss: 0.5244 - accuracy: 0.7480\n",
      "Epoch 33/100\n",
      "804/804 [==============================] - 1s 774us/step - loss: 0.5236 - accuracy: 0.7481\n",
      "Epoch 34/100\n",
      "804/804 [==============================] - 1s 758us/step - loss: 0.5235 - accuracy: 0.7481\n",
      "Epoch 35/100\n",
      "804/804 [==============================] - 1s 766us/step - loss: 0.5235 - accuracy: 0.7486\n",
      "Epoch 36/100\n",
      "804/804 [==============================] - 1s 773us/step - loss: 0.5236 - accuracy: 0.7472\n",
      "Epoch 37/100\n",
      "804/804 [==============================] - 1s 764us/step - loss: 0.5229 - accuracy: 0.7484\n",
      "Epoch 38/100\n",
      "804/804 [==============================] - 1s 750us/step - loss: 0.5221 - accuracy: 0.7490\n",
      "Epoch 39/100\n",
      "804/804 [==============================] - 1s 755us/step - loss: 0.5224 - accuracy: 0.7486\n",
      "Epoch 40/100\n",
      "804/804 [==============================] - 1s 757us/step - loss: 0.5217 - accuracy: 0.7503\n",
      "Epoch 41/100\n",
      "804/804 [==============================] - 1s 766us/step - loss: 0.5219 - accuracy: 0.7484\n",
      "Epoch 42/100\n",
      "804/804 [==============================] - 1s 762us/step - loss: 0.5223 - accuracy: 0.7490\n",
      "Epoch 43/100\n",
      "804/804 [==============================] - 1s 765us/step - loss: 0.5219 - accuracy: 0.7480\n",
      "Epoch 44/100\n",
      "804/804 [==============================] - 1s 759us/step - loss: 0.5208 - accuracy: 0.7484\n",
      "Epoch 45/100\n",
      "804/804 [==============================] - 1s 753us/step - loss: 0.5210 - accuracy: 0.7486\n",
      "Epoch 46/100\n",
      "804/804 [==============================] - 1s 754us/step - loss: 0.5199 - accuracy: 0.7493\n",
      "Epoch 47/100\n",
      "804/804 [==============================] - 1s 760us/step - loss: 0.5212 - accuracy: 0.7490\n",
      "Epoch 48/100\n",
      "804/804 [==============================] - 1s 769us/step - loss: 0.5210 - accuracy: 0.7488\n",
      "Epoch 49/100\n",
      "804/804 [==============================] - 1s 770us/step - loss: 0.5205 - accuracy: 0.7488\n",
      "Epoch 50/100\n",
      "804/804 [==============================] - 1s 769us/step - loss: 0.5202 - accuracy: 0.7489\n",
      "Epoch 51/100\n",
      "804/804 [==============================] - 1s 779us/step - loss: 0.5198 - accuracy: 0.7497\n",
      "Epoch 52/100\n",
      "804/804 [==============================] - 1s 761us/step - loss: 0.5204 - accuracy: 0.7486\n",
      "Epoch 53/100\n",
      "804/804 [==============================] - 1s 763us/step - loss: 0.5195 - accuracy: 0.7486\n",
      "Epoch 54/100\n",
      "804/804 [==============================] - 1s 749us/step - loss: 0.5200 - accuracy: 0.7500\n",
      "Epoch 55/100\n",
      "804/804 [==============================] - 1s 750us/step - loss: 0.5191 - accuracy: 0.7491\n",
      "Epoch 56/100\n",
      "804/804 [==============================] - 1s 768us/step - loss: 0.5197 - accuracy: 0.7496\n",
      "Epoch 57/100\n",
      "804/804 [==============================] - 1s 743us/step - loss: 0.5197 - accuracy: 0.7499\n",
      "Epoch 58/100\n",
      "804/804 [==============================] - 1s 736us/step - loss: 0.5199 - accuracy: 0.7498\n",
      "Epoch 59/100\n",
      "804/804 [==============================] - 1s 730us/step - loss: 0.5193 - accuracy: 0.7490\n",
      "Epoch 60/100\n",
      "804/804 [==============================] - 1s 738us/step - loss: 0.5190 - accuracy: 0.7497\n",
      "Epoch 61/100\n",
      "804/804 [==============================] - 1s 739us/step - loss: 0.5186 - accuracy: 0.7503\n",
      "Epoch 62/100\n",
      "804/804 [==============================] - 1s 734us/step - loss: 0.5186 - accuracy: 0.7497\n",
      "Epoch 63/100\n",
      "804/804 [==============================] - 1s 747us/step - loss: 0.5186 - accuracy: 0.7494\n",
      "Epoch 64/100\n",
      "804/804 [==============================] - 1s 749us/step - loss: 0.5192 - accuracy: 0.7489\n",
      "Epoch 65/100\n",
      "804/804 [==============================] - 1s 741us/step - loss: 0.5184 - accuracy: 0.7502\n",
      "Epoch 66/100\n",
      "804/804 [==============================] - 1s 746us/step - loss: 0.5182 - accuracy: 0.7497\n",
      "Epoch 67/100\n",
      "804/804 [==============================] - 1s 739us/step - loss: 0.5190 - accuracy: 0.7493\n",
      "Epoch 68/100\n",
      "804/804 [==============================] - 1s 736us/step - loss: 0.5178 - accuracy: 0.7497\n",
      "Epoch 69/100\n",
      "804/804 [==============================] - 1s 759us/step - loss: 0.5180 - accuracy: 0.7500\n",
      "Epoch 70/100\n",
      "804/804 [==============================] - 1s 751us/step - loss: 0.5181 - accuracy: 0.7504\n",
      "Epoch 71/100\n",
      "804/804 [==============================] - 1s 738us/step - loss: 0.5182 - accuracy: 0.7498\n",
      "Epoch 72/100\n",
      "804/804 [==============================] - 1s 740us/step - loss: 0.5180 - accuracy: 0.7507\n",
      "Epoch 73/100\n",
      "804/804 [==============================] - 1s 739us/step - loss: 0.5175 - accuracy: 0.7501\n",
      "Epoch 74/100\n",
      "804/804 [==============================] - 1s 738us/step - loss: 0.5174 - accuracy: 0.7496\n",
      "Epoch 75/100\n",
      "804/804 [==============================] - 1s 744us/step - loss: 0.5172 - accuracy: 0.7502\n",
      "Epoch 76/100\n",
      "804/804 [==============================] - 1s 742us/step - loss: 0.5181 - accuracy: 0.7506\n",
      "Epoch 77/100\n",
      "804/804 [==============================] - 1s 749us/step - loss: 0.5171 - accuracy: 0.7502\n",
      "Epoch 78/100\n",
      "804/804 [==============================] - 1s 744us/step - loss: 0.5178 - accuracy: 0.7495\n",
      "Epoch 79/100\n"
     ]
    },
    {
     "name": "stdout",
     "output_type": "stream",
     "text": [
      "804/804 [==============================] - 1s 738us/step - loss: 0.5188 - accuracy: 0.7495\n",
      "Epoch 80/100\n",
      "804/804 [==============================] - 1s 734us/step - loss: 0.5221 - accuracy: 0.7511\n",
      "Epoch 81/100\n",
      "804/804 [==============================] - 1s 734us/step - loss: 0.5175 - accuracy: 0.7497\n",
      "Epoch 82/100\n",
      "804/804 [==============================] - 1s 735us/step - loss: 0.5167 - accuracy: 0.7505\n",
      "Epoch 83/100\n",
      "804/804 [==============================] - 1s 737us/step - loss: 0.5161 - accuracy: 0.7514\n",
      "Epoch 84/100\n",
      "804/804 [==============================] - 1s 739us/step - loss: 0.5168 - accuracy: 0.7506\n",
      "Epoch 85/100\n",
      "804/804 [==============================] - 1s 745us/step - loss: 0.5167 - accuracy: 0.7507\n",
      "Epoch 86/100\n",
      "804/804 [==============================] - 1s 749us/step - loss: 0.5168 - accuracy: 0.7505\n",
      "Epoch 87/100\n",
      "804/804 [==============================] - 1s 748us/step - loss: 0.5176 - accuracy: 0.7496\n",
      "Epoch 88/100\n",
      "804/804 [==============================] - 1s 742us/step - loss: 0.5166 - accuracy: 0.7503\n",
      "Epoch 89/100\n",
      "804/804 [==============================] - 1s 743us/step - loss: 0.5178 - accuracy: 0.7486\n",
      "Epoch 90/100\n",
      "804/804 [==============================] - 1s 738us/step - loss: 0.5175 - accuracy: 0.7507\n",
      "Epoch 91/100\n",
      "804/804 [==============================] - 1s 740us/step - loss: 0.5169 - accuracy: 0.7502\n",
      "Epoch 92/100\n",
      "804/804 [==============================] - 1s 738us/step - loss: 0.5163 - accuracy: 0.7506\n",
      "Epoch 93/100\n",
      "804/804 [==============================] - 1s 736us/step - loss: 0.5171 - accuracy: 0.7509\n",
      "Epoch 94/100\n",
      "804/804 [==============================] - 1s 738us/step - loss: 0.5171 - accuracy: 0.7505\n",
      "Epoch 95/100\n",
      "804/804 [==============================] - 1s 740us/step - loss: 0.5166 - accuracy: 0.7507\n",
      "Epoch 96/100\n",
      "804/804 [==============================] - 1s 744us/step - loss: 0.5163 - accuracy: 0.7505\n",
      "Epoch 97/100\n",
      "804/804 [==============================] - 1s 743us/step - loss: 0.5162 - accuracy: 0.7512\n",
      "Epoch 98/100\n",
      "804/804 [==============================] - 1s 743us/step - loss: 0.5165 - accuracy: 0.7502\n",
      "Epoch 99/100\n",
      "804/804 [==============================] - 1s 740us/step - loss: 0.5172 - accuracy: 0.7490\n",
      "Epoch 100/100\n",
      "804/804 [==============================] - 1s 745us/step - loss: 0.5163 - accuracy: 0.7505\n"
     ]
    }
   ],
   "source": [
    "# Train the model\n",
    "fit_model = nn.fit(X_train_scaled,y_train,epochs=100)"
   ]
  },
  {
   "cell_type": "code",
   "execution_count": 61,
   "id": "be17e1bf",
   "metadata": {},
   "outputs": [
    {
     "name": "stdout",
     "output_type": "stream",
     "text": [
      "268/268 - 0s - loss: 0.5882 - accuracy: 0.7324 - 123ms/epoch - 459us/step\n",
      "Loss: 0.5881860852241516, Accuracy: 0.7323614954948425\n"
     ]
    }
   ],
   "source": [
    "# Evaluate the model using the test data\n",
    "model_loss, model_accuracy = nn.evaluate(X_test_scaled,y_test,verbose=2)\n",
    "print(f\"Loss: {model_loss}, Accuracy: {model_accuracy}\")"
   ]
  },
  {
   "cell_type": "code",
   "execution_count": 63,
   "id": "6c01fcff",
   "metadata": {},
   "outputs": [],
   "source": [
    "# Export our model to HDF5 file\n",
    "nn.save('AlphabetSoupCharity_Optimization2.h5')"
   ]
  },
  {
   "cell_type": "code",
   "execution_count": null,
   "id": "3dae5daf",
   "metadata": {},
   "outputs": [],
   "source": []
  }
 ],
 "metadata": {
  "kernelspec": {
   "display_name": "PythonData",
   "language": "python",
   "name": "pythondata"
  },
  "language_info": {
   "codemirror_mode": {
    "name": "ipython",
    "version": 3
   },
   "file_extension": ".py",
   "mimetype": "text/x-python",
   "name": "python",
   "nbconvert_exporter": "python",
   "pygments_lexer": "ipython3",
   "version": "3.9.4"
  }
 },
 "nbformat": 4,
 "nbformat_minor": 5
}
